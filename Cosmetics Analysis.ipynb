{
 "cells": [
  {
   "cell_type": "code",
   "execution_count": 11,
   "id": "e719c4cd",
   "metadata": {},
   "outputs": [],
   "source": [
    "import pandas as pd\n",
    "import numpy as np\n",
    "import matplotlib.pyplot as plt\n",
    "from sklearn.linear_model import LinearRegression\n",
    "from sklearn.linear_model import LogisticRegression\n",
    "from sklearn.neighbors import KNeighborsClassifier\n",
    "from sklearn.model_selection import train_test_split\n",
    "from sklearn.preprocessing import LabelEncoder\n",
    "from sklearn.metrics import confusion_matrix\n",
    "import seaborn as sns"
   ]
  },
  {
   "cell_type": "code",
   "execution_count": 2,
   "id": "700db39f",
   "metadata": {},
   "outputs": [],
   "source": [
    "df = pd.read_csv(\"/Users/junyuwu/Cosmetics /components/cosmetics.csv\")"
   ]
  },
  {
   "cell_type": "code",
   "execution_count": 3,
   "id": "8a332d3e",
   "metadata": {},
   "outputs": [
    {
     "data": {
      "text/html": [
       "<div>\n",
       "<style scoped>\n",
       "    .dataframe tbody tr th:only-of-type {\n",
       "        vertical-align: middle;\n",
       "    }\n",
       "\n",
       "    .dataframe tbody tr th {\n",
       "        vertical-align: top;\n",
       "    }\n",
       "\n",
       "    .dataframe thead th {\n",
       "        text-align: right;\n",
       "    }\n",
       "</style>\n",
       "<table border=\"1\" class=\"dataframe\">\n",
       "  <thead>\n",
       "    <tr style=\"text-align: right;\">\n",
       "      <th></th>\n",
       "      <th>Label</th>\n",
       "      <th>Brand</th>\n",
       "      <th>Name</th>\n",
       "      <th>Price</th>\n",
       "      <th>Rank</th>\n",
       "      <th>Ingredients</th>\n",
       "      <th>Combination</th>\n",
       "      <th>Dry</th>\n",
       "      <th>Normal</th>\n",
       "      <th>Oily</th>\n",
       "      <th>Sensitive</th>\n",
       "    </tr>\n",
       "  </thead>\n",
       "  <tbody>\n",
       "    <tr>\n",
       "      <th>0</th>\n",
       "      <td>Moisturizer</td>\n",
       "      <td>LA MER</td>\n",
       "      <td>Crème de la Mer</td>\n",
       "      <td>175</td>\n",
       "      <td>4.1</td>\n",
       "      <td>Algae (Seaweed) Extract, Mineral Oil, Petrolat...</td>\n",
       "      <td>1</td>\n",
       "      <td>1</td>\n",
       "      <td>1</td>\n",
       "      <td>1</td>\n",
       "      <td>1</td>\n",
       "    </tr>\n",
       "    <tr>\n",
       "      <th>1</th>\n",
       "      <td>Moisturizer</td>\n",
       "      <td>SK-II</td>\n",
       "      <td>Facial Treatment Essence</td>\n",
       "      <td>179</td>\n",
       "      <td>4.1</td>\n",
       "      <td>Galactomyces Ferment Filtrate (Pitera), Butyle...</td>\n",
       "      <td>1</td>\n",
       "      <td>1</td>\n",
       "      <td>1</td>\n",
       "      <td>1</td>\n",
       "      <td>1</td>\n",
       "    </tr>\n",
       "    <tr>\n",
       "      <th>2</th>\n",
       "      <td>Moisturizer</td>\n",
       "      <td>DRUNK ELEPHANT</td>\n",
       "      <td>Protini™ Polypeptide Cream</td>\n",
       "      <td>68</td>\n",
       "      <td>4.4</td>\n",
       "      <td>Water, Dicaprylyl Carbonate, Glycerin, Ceteary...</td>\n",
       "      <td>1</td>\n",
       "      <td>1</td>\n",
       "      <td>1</td>\n",
       "      <td>1</td>\n",
       "      <td>0</td>\n",
       "    </tr>\n",
       "    <tr>\n",
       "      <th>3</th>\n",
       "      <td>Moisturizer</td>\n",
       "      <td>LA MER</td>\n",
       "      <td>The Moisturizing Soft Cream</td>\n",
       "      <td>175</td>\n",
       "      <td>3.8</td>\n",
       "      <td>Algae (Seaweed) Extract, Cyclopentasiloxane, P...</td>\n",
       "      <td>1</td>\n",
       "      <td>1</td>\n",
       "      <td>1</td>\n",
       "      <td>1</td>\n",
       "      <td>1</td>\n",
       "    </tr>\n",
       "    <tr>\n",
       "      <th>4</th>\n",
       "      <td>Moisturizer</td>\n",
       "      <td>IT COSMETICS</td>\n",
       "      <td>Your Skin But Better™ CC+™ Cream with SPF 50+</td>\n",
       "      <td>38</td>\n",
       "      <td>4.1</td>\n",
       "      <td>Water, Snail Secretion Filtrate, Phenyl Trimet...</td>\n",
       "      <td>1</td>\n",
       "      <td>1</td>\n",
       "      <td>1</td>\n",
       "      <td>1</td>\n",
       "      <td>1</td>\n",
       "    </tr>\n",
       "  </tbody>\n",
       "</table>\n",
       "</div>"
      ],
      "text/plain": [
       "         Label           Brand                                           Name  \\\n",
       "0  Moisturizer          LA MER                                Crème de la Mer   \n",
       "1  Moisturizer           SK-II                       Facial Treatment Essence   \n",
       "2  Moisturizer  DRUNK ELEPHANT                     Protini™ Polypeptide Cream   \n",
       "3  Moisturizer          LA MER                    The Moisturizing Soft Cream   \n",
       "4  Moisturizer    IT COSMETICS  Your Skin But Better™ CC+™ Cream with SPF 50+   \n",
       "\n",
       "   Price  Rank                                        Ingredients  \\\n",
       "0    175   4.1  Algae (Seaweed) Extract, Mineral Oil, Petrolat...   \n",
       "1    179   4.1  Galactomyces Ferment Filtrate (Pitera), Butyle...   \n",
       "2     68   4.4  Water, Dicaprylyl Carbonate, Glycerin, Ceteary...   \n",
       "3    175   3.8  Algae (Seaweed) Extract, Cyclopentasiloxane, P...   \n",
       "4     38   4.1  Water, Snail Secretion Filtrate, Phenyl Trimet...   \n",
       "\n",
       "   Combination  Dry  Normal  Oily  Sensitive  \n",
       "0            1    1       1     1          1  \n",
       "1            1    1       1     1          1  \n",
       "2            1    1       1     1          0  \n",
       "3            1    1       1     1          1  \n",
       "4            1    1       1     1          1  "
      ]
     },
     "execution_count": 3,
     "metadata": {},
     "output_type": "execute_result"
    }
   ],
   "source": [
    "df.head()"
   ]
  },
  {
   "cell_type": "code",
   "execution_count": 4,
   "id": "b5428a79",
   "metadata": {},
   "outputs": [
    {
     "data": {
      "text/plain": [
       "Label          0\n",
       "Brand          0\n",
       "Name           0\n",
       "Price          0\n",
       "Rank           0\n",
       "Ingredients    0\n",
       "Combination    0\n",
       "Dry            0\n",
       "Normal         0\n",
       "Oily           0\n",
       "Sensitive      0\n",
       "dtype: int64"
      ]
     },
     "execution_count": 4,
     "metadata": {},
     "output_type": "execute_result"
    }
   ],
   "source": [
    "df.isna().sum()"
   ]
  },
  {
   "cell_type": "code",
   "execution_count": 84,
   "id": "b0c3eacf",
   "metadata": {},
   "outputs": [
    {
     "data": {
      "text/html": [
       "<style>#sk-container-id-2 {color: black;background-color: white;}#sk-container-id-2 pre{padding: 0;}#sk-container-id-2 div.sk-toggleable {background-color: white;}#sk-container-id-2 label.sk-toggleable__label {cursor: pointer;display: block;width: 100%;margin-bottom: 0;padding: 0.3em;box-sizing: border-box;text-align: center;}#sk-container-id-2 label.sk-toggleable__label-arrow:before {content: \"▸\";float: left;margin-right: 0.25em;color: #696969;}#sk-container-id-2 label.sk-toggleable__label-arrow:hover:before {color: black;}#sk-container-id-2 div.sk-estimator:hover label.sk-toggleable__label-arrow:before {color: black;}#sk-container-id-2 div.sk-toggleable__content {max-height: 0;max-width: 0;overflow: hidden;text-align: left;background-color: #f0f8ff;}#sk-container-id-2 div.sk-toggleable__content pre {margin: 0.2em;color: black;border-radius: 0.25em;background-color: #f0f8ff;}#sk-container-id-2 input.sk-toggleable__control:checked~div.sk-toggleable__content {max-height: 200px;max-width: 100%;overflow: auto;}#sk-container-id-2 input.sk-toggleable__control:checked~label.sk-toggleable__label-arrow:before {content: \"▾\";}#sk-container-id-2 div.sk-estimator input.sk-toggleable__control:checked~label.sk-toggleable__label {background-color: #d4ebff;}#sk-container-id-2 div.sk-label input.sk-toggleable__control:checked~label.sk-toggleable__label {background-color: #d4ebff;}#sk-container-id-2 input.sk-hidden--visually {border: 0;clip: rect(1px 1px 1px 1px);clip: rect(1px, 1px, 1px, 1px);height: 1px;margin: -1px;overflow: hidden;padding: 0;position: absolute;width: 1px;}#sk-container-id-2 div.sk-estimator {font-family: monospace;background-color: #f0f8ff;border: 1px dotted black;border-radius: 0.25em;box-sizing: border-box;margin-bottom: 0.5em;}#sk-container-id-2 div.sk-estimator:hover {background-color: #d4ebff;}#sk-container-id-2 div.sk-parallel-item::after {content: \"\";width: 100%;border-bottom: 1px solid gray;flex-grow: 1;}#sk-container-id-2 div.sk-label:hover label.sk-toggleable__label {background-color: #d4ebff;}#sk-container-id-2 div.sk-serial::before {content: \"\";position: absolute;border-left: 1px solid gray;box-sizing: border-box;top: 0;bottom: 0;left: 50%;z-index: 0;}#sk-container-id-2 div.sk-serial {display: flex;flex-direction: column;align-items: center;background-color: white;padding-right: 0.2em;padding-left: 0.2em;position: relative;}#sk-container-id-2 div.sk-item {position: relative;z-index: 1;}#sk-container-id-2 div.sk-parallel {display: flex;align-items: stretch;justify-content: center;background-color: white;position: relative;}#sk-container-id-2 div.sk-item::before, #sk-container-id-2 div.sk-parallel-item::before {content: \"\";position: absolute;border-left: 1px solid gray;box-sizing: border-box;top: 0;bottom: 0;left: 50%;z-index: -1;}#sk-container-id-2 div.sk-parallel-item {display: flex;flex-direction: column;z-index: 1;position: relative;background-color: white;}#sk-container-id-2 div.sk-parallel-item:first-child::after {align-self: flex-end;width: 50%;}#sk-container-id-2 div.sk-parallel-item:last-child::after {align-self: flex-start;width: 50%;}#sk-container-id-2 div.sk-parallel-item:only-child::after {width: 0;}#sk-container-id-2 div.sk-dashed-wrapped {border: 1px dashed gray;margin: 0 0.4em 0.5em 0.4em;box-sizing: border-box;padding-bottom: 0.4em;background-color: white;}#sk-container-id-2 div.sk-label label {font-family: monospace;font-weight: bold;display: inline-block;line-height: 1.2em;}#sk-container-id-2 div.sk-label-container {text-align: center;}#sk-container-id-2 div.sk-container {/* jupyter's `normalize.less` sets `[hidden] { display: none; }` but bootstrap.min.css set `[hidden] { display: none !important; }` so we also need the `!important` here to be able to override the default hidden behavior on the sphinx rendered scikit-learn.org. See: https://github.com/scikit-learn/scikit-learn/issues/21755 */display: inline-block !important;position: relative;}#sk-container-id-2 div.sk-text-repr-fallback {display: none;}</style><div id=\"sk-container-id-2\" class=\"sk-top-container\"><div class=\"sk-text-repr-fallback\"><pre>LinearRegression()</pre><b>In a Jupyter environment, please rerun this cell to show the HTML representation or trust the notebook. <br />On GitHub, the HTML representation is unable to render, please try loading this page with nbviewer.org.</b></div><div class=\"sk-container\" hidden><div class=\"sk-item\"><div class=\"sk-estimator sk-toggleable\"><input class=\"sk-toggleable__control sk-hidden--visually\" id=\"sk-estimator-id-2\" type=\"checkbox\" checked><label for=\"sk-estimator-id-2\" class=\"sk-toggleable__label sk-toggleable__label-arrow\">LinearRegression</label><div class=\"sk-toggleable__content\"><pre>LinearRegression()</pre></div></div></div></div></div>"
      ],
      "text/plain": [
       "LinearRegression()"
      ]
     },
     "execution_count": 84,
     "metadata": {},
     "output_type": "execute_result"
    }
   ],
   "source": [
    "X = df[[\"Combination\", \"Dry\", \"Normal\", \"Oily\", \"Sensitive\"]].values\n",
    "y = df[\"Price\"]\n",
    "model = LinearRegression()\n",
    "model.fit(X,y)"
   ]
  },
  {
   "cell_type": "code",
   "execution_count": 6,
   "id": "649fdf7a",
   "metadata": {},
   "outputs": [
    {
     "data": {
      "text/plain": [
       "array([48.81554707])"
      ]
     },
     "execution_count": 6,
     "metadata": {},
     "output_type": "execute_result"
    }
   ],
   "source": [
    "model.predict([[1,0,1,1,0]])"
   ]
  },
  {
   "cell_type": "code",
   "execution_count": 94,
   "id": "3ceac4d0",
   "metadata": {},
   "outputs": [
    {
     "data": {
      "text/plain": [
       "0.020995347113506035"
      ]
     },
     "execution_count": 94,
     "metadata": {},
     "output_type": "execute_result"
    }
   ],
   "source": [
    "X = df[[\"Combination\", \"Dry\", \"Normal\", \"Oily\", \"Sensitive\"]].values\n",
    "y = df[\"Price\"]\n",
    "X_train,X_test,y_train,y_test = train_test_split(X,y,test_size=.2)\n",
    "model = LinearRegression()\n",
    "model.fit(X_train,y_train)\n",
    "model.score(X_test,y_test)"
   ]
  },
  {
   "cell_type": "code",
   "execution_count": null,
   "id": "80f12197",
   "metadata": {},
   "outputs": [],
   "source": []
  },
  {
   "cell_type": "code",
   "execution_count": 7,
   "id": "ff461190",
   "metadata": {},
   "outputs": [],
   "source": [
    "# plt.scatter(df[\"meas_depth\"], df[\"total_sales_price\"],c=\"red\", marker=\"+\")\n",
    "# plt.scatter(30, model.predict([[30]]),c=\"red\",s=400, marker=\"*\")\n",
    "# plt.scatter(80, model.predict([[80]]),c=\"green\",s=400, marker=\"*\")\n",
    "# plt.plot(df[\"meas_depth\"], model.predict(X))\n",
    "# plt.ylabel(\"total_sales_price\")\n",
    "# plt.xlabel(\"meas_depth\");"
   ]
  },
  {
   "cell_type": "code",
   "execution_count": 8,
   "id": "89f6ca02",
   "metadata": {},
   "outputs": [
    {
     "name": "stdout",
     "output_type": "stream",
     "text": [
      "<class 'pandas.core.frame.DataFrame'>\n",
      "RangeIndex: 1472 entries, 0 to 1471\n",
      "Data columns (total 11 columns):\n",
      " #   Column       Non-Null Count  Dtype  \n",
      "---  ------       --------------  -----  \n",
      " 0   Label        1472 non-null   object \n",
      " 1   Brand        1472 non-null   object \n",
      " 2   Name         1472 non-null   object \n",
      " 3   Price        1472 non-null   int64  \n",
      " 4   Rank         1472 non-null   float64\n",
      " 5   Ingredients  1472 non-null   object \n",
      " 6   Combination  1472 non-null   int64  \n",
      " 7   Dry          1472 non-null   int64  \n",
      " 8   Normal       1472 non-null   int64  \n",
      " 9   Oily         1472 non-null   int64  \n",
      " 10  Sensitive    1472 non-null   int64  \n",
      "dtypes: float64(1), int64(6), object(4)\n",
      "memory usage: 126.6+ KB\n"
     ]
    }
   ],
   "source": [
    "df.info()"
   ]
  },
  {
   "cell_type": "code",
   "execution_count": 9,
   "id": "aa9d01f7",
   "metadata": {},
   "outputs": [
    {
     "name": "stderr",
     "output_type": "stream",
     "text": [
      "/var/folders/tr/00d44tjd3wz1f_ccm0ktlwp80000gn/T/ipykernel_37426/3985971350.py:1: FutureWarning: The default value of numeric_only in DataFrame.corr is deprecated. In a future version, it will default to False. Select only valid columns or specify the value of numeric_only to silence this warning.\n",
      "  mask = np.zeros_like(df.corr())\n",
      "/var/folders/tr/00d44tjd3wz1f_ccm0ktlwp80000gn/T/ipykernel_37426/3985971350.py:5: FutureWarning: The default value of numeric_only in DataFrame.corr is deprecated. In a future version, it will default to False. Select only valid columns or specify the value of numeric_only to silence this warning.\n",
      "  sns.heatmap(df.corr(),annot=True, mask = mask,annot_kws={\"size\":14})\n"
     ]
    },
    {
     "data": {
      "image/png": "[encoded data removed]",
      "text/plain": [
       "<Figure size 1600x1000 with 2 Axes>"
      ]
     },
     "metadata": {},
     "output_type": "display_data"
    }
   ],
   "source": [
    "mask = np.zeros_like(df.corr())\n",
    "triangle_indicies = np.triu_indices_from(mask)\n",
    "mask[triangle_indicies] = True\n",
    "plt.figure(figsize=(16,10))\n",
    "sns.heatmap(df.corr(),annot=True, mask = mask,annot_kws={\"size\":14})\n",
    "plt.xticks(fontsize=16)\n",
    "plt.yticks(fontsize=16);"
   ]
  },
  {
   "cell_type": "code",
   "execution_count": 12,
   "id": "77823652",
   "metadata": {},
   "outputs": [
    {
     "data": {
      "text/plain": [
       "0.02711864406779661"
      ]
     },
     "execution_count": 12,
     "metadata": {},
     "output_type": "execute_result"
    }
   ],
   "source": [
    "X = df[ list(df.columns)[6:]]\n",
    "y = df[\"Price\"]\n",
    "\n",
    "X_train, X_test, y_train, y_test = train_test_split(X, y ,test_size=.2)\n",
    "model = KNeighborsClassifier()\n",
    "model.fit(X_train,y_train)\n",
    "model.score(X_test, y_test)"
   ]
  },
  {
   "cell_type": "code",
   "execution_count": 13,
   "id": "2c58f6ea",
   "metadata": {},
   "outputs": [
    {
     "data": {
      "image/png": "[encoded data removed]",
      "text/plain": [
       "<Figure size 640x480 with 2 Axes>"
      ]
     },
     "metadata": {},
     "output_type": "display_data"
    }
   ],
   "source": [
    "# Confusion Matrix\n",
    "\n",
    "pred = model.predict(X_test)\n",
    "\n",
    "cm = confusion_matrix(y_test, pred)\n",
    "\n",
    "sns.heatmap(cm, annot=True, fmt=\"d\")\n",
    "\n",
    "plt.ylabel(\"Actual\")\n",
    "plt.xlabel(\"Predicted\");"
   ]
  },
  {
   "cell_type": "code",
   "execution_count": 15,
   "id": "2edd6d11",
   "metadata": {},
   "outputs": [
    {
     "data": {
      "text/html": [
       "<div>\n",
       "<style scoped>\n",
       "    .dataframe tbody tr th:only-of-type {\n",
       "        vertical-align: middle;\n",
       "    }\n",
       "\n",
       "    .dataframe tbody tr th {\n",
       "        vertical-align: top;\n",
       "    }\n",
       "\n",
       "    .dataframe thead th {\n",
       "        text-align: right;\n",
       "    }\n",
       "</style>\n",
       "<table border=\"1\" class=\"dataframe\">\n",
       "  <thead>\n",
       "    <tr style=\"text-align: right;\">\n",
       "      <th></th>\n",
       "      <th>Label</th>\n",
       "      <th>Brand</th>\n",
       "      <th>Name</th>\n",
       "      <th>Price</th>\n",
       "      <th>Rank</th>\n",
       "      <th>Ingredients</th>\n",
       "      <th>Combination</th>\n",
       "      <th>Dry</th>\n",
       "      <th>Normal</th>\n",
       "      <th>Oily</th>\n",
       "      <th>Sensitive</th>\n",
       "    </tr>\n",
       "  </thead>\n",
       "  <tbody>\n",
       "    <tr>\n",
       "      <th>0</th>\n",
       "      <td>Moisturizer</td>\n",
       "      <td>LA MER</td>\n",
       "      <td>Crème de la Mer</td>\n",
       "      <td>175</td>\n",
       "      <td>4.1</td>\n",
       "      <td>Algae (Seaweed) Extract, Mineral Oil, Petrolat...</td>\n",
       "      <td>1</td>\n",
       "      <td>1</td>\n",
       "      <td>1</td>\n",
       "      <td>1</td>\n",
       "      <td>1</td>\n",
       "    </tr>\n",
       "    <tr>\n",
       "      <th>1</th>\n",
       "      <td>Moisturizer</td>\n",
       "      <td>SK-II</td>\n",
       "      <td>Facial Treatment Essence</td>\n",
       "      <td>179</td>\n",
       "      <td>4.1</td>\n",
       "      <td>Galactomyces Ferment Filtrate (Pitera), Butyle...</td>\n",
       "      <td>1</td>\n",
       "      <td>1</td>\n",
       "      <td>1</td>\n",
       "      <td>1</td>\n",
       "      <td>1</td>\n",
       "    </tr>\n",
       "    <tr>\n",
       "      <th>2</th>\n",
       "      <td>Moisturizer</td>\n",
       "      <td>DRUNK ELEPHANT</td>\n",
       "      <td>Protini™ Polypeptide Cream</td>\n",
       "      <td>68</td>\n",
       "      <td>4.4</td>\n",
       "      <td>Water, Dicaprylyl Carbonate, Glycerin, Ceteary...</td>\n",
       "      <td>1</td>\n",
       "      <td>1</td>\n",
       "      <td>1</td>\n",
       "      <td>1</td>\n",
       "      <td>0</td>\n",
       "    </tr>\n",
       "    <tr>\n",
       "      <th>3</th>\n",
       "      <td>Moisturizer</td>\n",
       "      <td>LA MER</td>\n",
       "      <td>The Moisturizing Soft Cream</td>\n",
       "      <td>175</td>\n",
       "      <td>3.8</td>\n",
       "      <td>Algae (Seaweed) Extract, Cyclopentasiloxane, P...</td>\n",
       "      <td>1</td>\n",
       "      <td>1</td>\n",
       "      <td>1</td>\n",
       "      <td>1</td>\n",
       "      <td>1</td>\n",
       "    </tr>\n",
       "    <tr>\n",
       "      <th>4</th>\n",
       "      <td>Moisturizer</td>\n",
       "      <td>IT COSMETICS</td>\n",
       "      <td>Your Skin But Better™ CC+™ Cream with SPF 50+</td>\n",
       "      <td>38</td>\n",
       "      <td>4.1</td>\n",
       "      <td>Water, Snail Secretion Filtrate, Phenyl Trimet...</td>\n",
       "      <td>1</td>\n",
       "      <td>1</td>\n",
       "      <td>1</td>\n",
       "      <td>1</td>\n",
       "      <td>1</td>\n",
       "    </tr>\n",
       "  </tbody>\n",
       "</table>\n",
       "</div>"
      ],
      "text/plain": [
       "         Label           Brand                                           Name  \\\n",
       "0  Moisturizer          LA MER                                Crème de la Mer   \n",
       "1  Moisturizer           SK-II                       Facial Treatment Essence   \n",
       "2  Moisturizer  DRUNK ELEPHANT                     Protini™ Polypeptide Cream   \n",
       "3  Moisturizer          LA MER                    The Moisturizing Soft Cream   \n",
       "4  Moisturizer    IT COSMETICS  Your Skin But Better™ CC+™ Cream with SPF 50+   \n",
       "\n",
       "   Price  Rank                                        Ingredients  \\\n",
       "0    175   4.1  Algae (Seaweed) Extract, Mineral Oil, Petrolat...   \n",
       "1    179   4.1  Galactomyces Ferment Filtrate (Pitera), Butyle...   \n",
       "2     68   4.4  Water, Dicaprylyl Carbonate, Glycerin, Ceteary...   \n",
       "3    175   3.8  Algae (Seaweed) Extract, Cyclopentasiloxane, P...   \n",
       "4     38   4.1  Water, Snail Secretion Filtrate, Phenyl Trimet...   \n",
       "\n",
       "   Combination  Dry  Normal  Oily  Sensitive  \n",
       "0            1    1       1     1          1  \n",
       "1            1    1       1     1          1  \n",
       "2            1    1       1     1          0  \n",
       "3            1    1       1     1          1  \n",
       "4            1    1       1     1          1  "
      ]
     },
     "execution_count": 15,
     "metadata": {},
     "output_type": "execute_result"
    }
   ],
   "source": [
    "df.head()"
   ]
  },
  {
   "cell_type": "code",
   "execution_count": 39,
   "id": "48d13d4d",
   "metadata": {},
   "outputs": [
    {
     "data": {
      "text/html": [
       "<div>\n",
       "<style scoped>\n",
       "    .dataframe tbody tr th:only-of-type {\n",
       "        vertical-align: middle;\n",
       "    }\n",
       "\n",
       "    .dataframe tbody tr th {\n",
       "        vertical-align: top;\n",
       "    }\n",
       "\n",
       "    .dataframe thead th {\n",
       "        text-align: right;\n",
       "    }\n",
       "</style>\n",
       "<table border=\"1\" class=\"dataframe\">\n",
       "  <thead>\n",
       "    <tr style=\"text-align: right;\">\n",
       "      <th></th>\n",
       "      <th>index</th>\n",
       "      <th>Brand</th>\n",
       "    </tr>\n",
       "  </thead>\n",
       "  <tbody>\n",
       "    <tr>\n",
       "      <th>0</th>\n",
       "      <td>CLINIQUE</td>\n",
       "      <td>79</td>\n",
       "    </tr>\n",
       "    <tr>\n",
       "      <th>1</th>\n",
       "      <td>SEPHORA COLLECTION</td>\n",
       "      <td>66</td>\n",
       "    </tr>\n",
       "    <tr>\n",
       "      <th>2</th>\n",
       "      <td>SHISEIDO</td>\n",
       "      <td>63</td>\n",
       "    </tr>\n",
       "    <tr>\n",
       "      <th>3</th>\n",
       "      <td>ORIGINS</td>\n",
       "      <td>54</td>\n",
       "    </tr>\n",
       "    <tr>\n",
       "      <th>4</th>\n",
       "      <td>MURAD</td>\n",
       "      <td>47</td>\n",
       "    </tr>\n",
       "    <tr>\n",
       "      <th>5</th>\n",
       "      <td>PETER THOMAS ROTH</td>\n",
       "      <td>46</td>\n",
       "    </tr>\n",
       "    <tr>\n",
       "      <th>6</th>\n",
       "      <td>KIEHL'S SINCE 1851</td>\n",
       "      <td>46</td>\n",
       "    </tr>\n",
       "    <tr>\n",
       "      <th>7</th>\n",
       "      <td>FRESH</td>\n",
       "      <td>44</td>\n",
       "    </tr>\n",
       "    <tr>\n",
       "      <th>8</th>\n",
       "      <td>DR. JART+</td>\n",
       "      <td>41</td>\n",
       "    </tr>\n",
       "    <tr>\n",
       "      <th>9</th>\n",
       "      <td>KATE SOMERVILLE</td>\n",
       "      <td>35</td>\n",
       "    </tr>\n",
       "  </tbody>\n",
       "</table>\n",
       "</div>"
      ],
      "text/plain": [
       "                index  Brand\n",
       "0            CLINIQUE     79\n",
       "1  SEPHORA COLLECTION     66\n",
       "2            SHISEIDO     63\n",
       "3             ORIGINS     54\n",
       "4               MURAD     47\n",
       "5   PETER THOMAS ROTH     46\n",
       "6  KIEHL'S SINCE 1851     46\n",
       "7               FRESH     44\n",
       "8           DR. JART+     41\n",
       "9     KATE SOMERVILLE     35"
      ]
     },
     "execution_count": 39,
     "metadata": {},
     "output_type": "execute_result"
    }
   ],
   "source": [
    "bybrand = df[\"Brand\"].value_counts()[:10].to_frame()\n",
    "bybrand.reset_index(inplace=True)\n",
    "bybrand"
   ]
  },
  {
   "cell_type": "code",
   "execution_count": 38,
   "id": "7800cdba",
   "metadata": {},
   "outputs": [
    {
     "data": {
      "text/plain": [
       "Crème de la Mer                                       1\n",
       "Cocoa Moisture Mask                                   1\n",
       "Lip Mask                                              1\n",
       "Extra-Firming Mask                                    1\n",
       "pores no more® Vacuum Cleaner® Pore Purifying Mask    1\n",
       "                                                     ..\n",
       "Renewing Cleansing Cream                              1\n",
       "High Potency Classics: Nutritive Cleanser             1\n",
       "Essential-C Toner                                     1\n",
       "Bergamot Herbal Extract Toner                         1\n",
       "DERMAPROTECT Daily Defense Broad Spectrum SPF 50+     1\n",
       "Name: Name, Length: 1472, dtype: int64"
      ]
     },
     "execution_count": 38,
     "metadata": {},
     "output_type": "execute_result"
    }
   ],
   "source": [
    "df[\"Name\"].value_counts()"
   ]
  },
  {
   "cell_type": "code",
   "execution_count": 33,
   "id": "768a6411",
   "metadata": {},
   "outputs": [
    {
     "data": {
      "text/html": [
       "<div>\n",
       "<style scoped>\n",
       "    .dataframe tbody tr th:only-of-type {\n",
       "        vertical-align: middle;\n",
       "    }\n",
       "\n",
       "    .dataframe tbody tr th {\n",
       "        vertical-align: top;\n",
       "    }\n",
       "\n",
       "    .dataframe thead th {\n",
       "        text-align: right;\n",
       "    }\n",
       "</style>\n",
       "<table border=\"1\" class=\"dataframe\">\n",
       "  <thead>\n",
       "    <tr style=\"text-align: right;\">\n",
       "      <th></th>\n",
       "      <th>Price</th>\n",
       "    </tr>\n",
       "    <tr>\n",
       "      <th>Brand</th>\n",
       "      <th></th>\n",
       "    </tr>\n",
       "  </thead>\n",
       "  <tbody>\n",
       "    <tr>\n",
       "      <th>LA MER</th>\n",
       "      <td>184.0</td>\n",
       "    </tr>\n",
       "    <tr>\n",
       "      <th>BIOEFFECT</th>\n",
       "      <td>171.0</td>\n",
       "    </tr>\n",
       "    <tr>\n",
       "      <th>LIGHTSTIM</th>\n",
       "      <td>169.0</td>\n",
       "    </tr>\n",
       "    <tr>\n",
       "      <th>SK-II</th>\n",
       "      <td>157.0</td>\n",
       "    </tr>\n",
       "    <tr>\n",
       "      <th>LANCER</th>\n",
       "      <td>136.0</td>\n",
       "    </tr>\n",
       "    <tr>\n",
       "      <th>OMOROVICZA</th>\n",
       "      <td>128.0</td>\n",
       "    </tr>\n",
       "    <tr>\n",
       "      <th>GUERLAIN</th>\n",
       "      <td>119.0</td>\n",
       "    </tr>\n",
       "    <tr>\n",
       "      <th>AMOREPACIFIC</th>\n",
       "      <td>104.0</td>\n",
       "    </tr>\n",
       "    <tr>\n",
       "      <th>KAPLAN MD</th>\n",
       "      <td>100.0</td>\n",
       "    </tr>\n",
       "    <tr>\n",
       "      <th>DIOR</th>\n",
       "      <td>95.0</td>\n",
       "    </tr>\n",
       "  </tbody>\n",
       "</table>\n",
       "</div>"
      ],
      "text/plain": [
       "              Price\n",
       "Brand              \n",
       "LA MER        184.0\n",
       "BIOEFFECT     171.0\n",
       "LIGHTSTIM     169.0\n",
       "SK-II         157.0\n",
       "LANCER        136.0\n",
       "OMOROVICZA    128.0\n",
       "GUERLAIN      119.0\n",
       "AMOREPACIFIC  104.0\n",
       "KAPLAN MD     100.0\n",
       "DIOR           95.0"
      ]
     },
     "execution_count": 33,
     "metadata": {},
     "output_type": "execute_result"
    }
   ],
   "source": [
    "df.groupby(\"Brand\")[[\"Price\"]].mean().sort_values(\"Price\", ascending=False)[:10].round()"
   ]
  },
  {
   "cell_type": "code",
   "execution_count": 45,
   "id": "5f416c3d",
   "metadata": {},
   "outputs": [
    {
     "data": {
      "text/html": [
       "<div>\n",
       "<style scoped>\n",
       "    .dataframe tbody tr th:only-of-type {\n",
       "        vertical-align: middle;\n",
       "    }\n",
       "\n",
       "    .dataframe tbody tr th {\n",
       "        vertical-align: top;\n",
       "    }\n",
       "\n",
       "    .dataframe thead th {\n",
       "        text-align: right;\n",
       "    }\n",
       "</style>\n",
       "<table border=\"1\" class=\"dataframe\">\n",
       "  <thead>\n",
       "    <tr style=\"text-align: right;\">\n",
       "      <th></th>\n",
       "      <th>brand_Name</th>\n",
       "      <th>Amount</th>\n",
       "    </tr>\n",
       "  </thead>\n",
       "  <tbody>\n",
       "    <tr>\n",
       "      <th>0</th>\n",
       "      <td>CLINIQUE</td>\n",
       "      <td>79</td>\n",
       "    </tr>\n",
       "    <tr>\n",
       "      <th>1</th>\n",
       "      <td>SEPHORA COLLECTION</td>\n",
       "      <td>66</td>\n",
       "    </tr>\n",
       "    <tr>\n",
       "      <th>2</th>\n",
       "      <td>SHISEIDO</td>\n",
       "      <td>63</td>\n",
       "    </tr>\n",
       "    <tr>\n",
       "      <th>3</th>\n",
       "      <td>ORIGINS</td>\n",
       "      <td>54</td>\n",
       "    </tr>\n",
       "    <tr>\n",
       "      <th>4</th>\n",
       "      <td>MURAD</td>\n",
       "      <td>47</td>\n",
       "    </tr>\n",
       "    <tr>\n",
       "      <th>5</th>\n",
       "      <td>PETER THOMAS ROTH</td>\n",
       "      <td>46</td>\n",
       "    </tr>\n",
       "    <tr>\n",
       "      <th>6</th>\n",
       "      <td>KIEHL'S SINCE 1851</td>\n",
       "      <td>46</td>\n",
       "    </tr>\n",
       "    <tr>\n",
       "      <th>7</th>\n",
       "      <td>FRESH</td>\n",
       "      <td>44</td>\n",
       "    </tr>\n",
       "    <tr>\n",
       "      <th>8</th>\n",
       "      <td>DR. JART+</td>\n",
       "      <td>41</td>\n",
       "    </tr>\n",
       "    <tr>\n",
       "      <th>9</th>\n",
       "      <td>KATE SOMERVILLE</td>\n",
       "      <td>35</td>\n",
       "    </tr>\n",
       "  </tbody>\n",
       "</table>\n",
       "</div>"
      ],
      "text/plain": [
       "           brand_Name  Amount\n",
       "0            CLINIQUE      79\n",
       "1  SEPHORA COLLECTION      66\n",
       "2            SHISEIDO      63\n",
       "3             ORIGINS      54\n",
       "4               MURAD      47\n",
       "5   PETER THOMAS ROTH      46\n",
       "6  KIEHL'S SINCE 1851      46\n",
       "7               FRESH      44\n",
       "8           DR. JART+      41\n",
       "9     KATE SOMERVILLE      35"
      ]
     },
     "execution_count": 45,
     "metadata": {},
     "output_type": "execute_result"
    }
   ],
   "source": [
    "bybrand = df[\"Brand\"].value_counts()[:10]\n",
    "bybrand = bybrand.reset_index()\n",
    "bybrand.rename(columns={\"index\":\"brand_Name\",\"Brand\":\"Amount\"},inplace=True)\n",
    "bybrand"
   ]
  },
  {
   "cell_type": "code",
   "execution_count": 47,
   "id": "a0a7b74f",
   "metadata": {},
   "outputs": [
    {
     "data": {
      "text/html": [
       "<div>\n",
       "<style scoped>\n",
       "    .dataframe tbody tr th:only-of-type {\n",
       "        vertical-align: middle;\n",
       "    }\n",
       "\n",
       "    .dataframe tbody tr th {\n",
       "        vertical-align: top;\n",
       "    }\n",
       "\n",
       "    .dataframe thead th {\n",
       "        text-align: right;\n",
       "    }\n",
       "</style>\n",
       "<table border=\"1\" class=\"dataframe\">\n",
       "  <thead>\n",
       "    <tr style=\"text-align: right;\">\n",
       "      <th></th>\n",
       "      <th>Brand_Name</th>\n",
       "      <th>Price</th>\n",
       "    </tr>\n",
       "  </thead>\n",
       "  <tbody>\n",
       "    <tr>\n",
       "      <th>0</th>\n",
       "      <td>LA MER</td>\n",
       "      <td>184.0</td>\n",
       "    </tr>\n",
       "    <tr>\n",
       "      <th>1</th>\n",
       "      <td>BIOEFFECT</td>\n",
       "      <td>171.0</td>\n",
       "    </tr>\n",
       "    <tr>\n",
       "      <th>2</th>\n",
       "      <td>LIGHTSTIM</td>\n",
       "      <td>169.0</td>\n",
       "    </tr>\n",
       "    <tr>\n",
       "      <th>3</th>\n",
       "      <td>SK-II</td>\n",
       "      <td>157.0</td>\n",
       "    </tr>\n",
       "    <tr>\n",
       "      <th>4</th>\n",
       "      <td>LANCER</td>\n",
       "      <td>136.0</td>\n",
       "    </tr>\n",
       "    <tr>\n",
       "      <th>5</th>\n",
       "      <td>OMOROVICZA</td>\n",
       "      <td>128.0</td>\n",
       "    </tr>\n",
       "    <tr>\n",
       "      <th>6</th>\n",
       "      <td>GUERLAIN</td>\n",
       "      <td>119.0</td>\n",
       "    </tr>\n",
       "    <tr>\n",
       "      <th>7</th>\n",
       "      <td>AMOREPACIFIC</td>\n",
       "      <td>104.0</td>\n",
       "    </tr>\n",
       "    <tr>\n",
       "      <th>8</th>\n",
       "      <td>KAPLAN MD</td>\n",
       "      <td>100.0</td>\n",
       "    </tr>\n",
       "    <tr>\n",
       "      <th>9</th>\n",
       "      <td>DIOR</td>\n",
       "      <td>95.0</td>\n",
       "    </tr>\n",
       "  </tbody>\n",
       "</table>\n",
       "</div>"
      ],
      "text/plain": [
       "     Brand_Name  Price\n",
       "0        LA MER  184.0\n",
       "1     BIOEFFECT  171.0\n",
       "2     LIGHTSTIM  169.0\n",
       "3         SK-II  157.0\n",
       "4        LANCER  136.0\n",
       "5    OMOROVICZA  128.0\n",
       "6      GUERLAIN  119.0\n",
       "7  AMOREPACIFIC  104.0\n",
       "8     KAPLAN MD  100.0\n",
       "9          DIOR   95.0"
      ]
     },
     "execution_count": 47,
     "metadata": {},
     "output_type": "execute_result"
    }
   ],
   "source": [
    "byprice = df.groupby(\"Brand\")[[\"Price\"]].mean().sort_values(\n",
    "    \"Price\", ascending=False)[:10].round()\n",
    "byprice.reset_index(inplace=True)\n",
    "byprice.rename(columns={\"Brand\": \"Brand_Name\"}, inplace=True)\n",
    "byprice"
   ]
  },
  {
   "cell_type": "code",
   "execution_count": 50,
   "id": "1eef9625",
   "metadata": {},
   "outputs": [
    {
     "data": {
      "text/plain": [
       "-0.007293426094829858"
      ]
     },
     "execution_count": 50,
     "metadata": {},
     "output_type": "execute_result"
    }
   ],
   "source": [
    "X = df[[\"Rank\"]]\n",
    "y = df[\"Price\"]\n",
    "X_train,X_test,y_train,y_test = train_test_split(X,y,test_size=.2)\n",
    "model = LinearRegression()\n",
    "model.fit(X_train,y_train)\n",
    "model.score(X_test,y_test)"
   ]
  },
  {
   "cell_type": "code",
   "execution_count": 57,
   "id": "3307e599",
   "metadata": {},
   "outputs": [
    {
     "data": {
      "text/html": [
       "<div>\n",
       "<style scoped>\n",
       "    .dataframe tbody tr th:only-of-type {\n",
       "        vertical-align: middle;\n",
       "    }\n",
       "\n",
       "    .dataframe tbody tr th {\n",
       "        vertical-align: top;\n",
       "    }\n",
       "\n",
       "    .dataframe thead th {\n",
       "        text-align: right;\n",
       "    }\n",
       "</style>\n",
       "<table border=\"1\" class=\"dataframe\">\n",
       "  <thead>\n",
       "    <tr style=\"text-align: right;\">\n",
       "      <th></th>\n",
       "      <th>Price</th>\n",
       "    </tr>\n",
       "    <tr>\n",
       "      <th>Combination</th>\n",
       "      <th></th>\n",
       "    </tr>\n",
       "  </thead>\n",
       "  <tbody>\n",
       "    <tr>\n",
       "      <th>0</th>\n",
       "      <td>54.802372</td>\n",
       "    </tr>\n",
       "    <tr>\n",
       "      <th>1</th>\n",
       "      <td>55.993789</td>\n",
       "    </tr>\n",
       "  </tbody>\n",
       "</table>\n",
       "</div>"
      ],
      "text/plain": [
       "                 Price\n",
       "Combination           \n",
       "0            54.802372\n",
       "1            55.993789"
      ]
     },
     "execution_count": 57,
     "metadata": {},
     "output_type": "execute_result"
    }
   ],
   "source": [
    "df.groupby(\"Combination\")[[\"Price\"]].mean()"
   ]
  },
  {
   "cell_type": "code",
   "execution_count": 62,
   "id": "b2e70ec8",
   "metadata": {},
   "outputs": [
    {
     "data": {
      "text/html": [
       "<div>\n",
       "<style scoped>\n",
       "    .dataframe tbody tr th:only-of-type {\n",
       "        vertical-align: middle;\n",
       "    }\n",
       "\n",
       "    .dataframe tbody tr th {\n",
       "        vertical-align: top;\n",
       "    }\n",
       "\n",
       "    .dataframe thead th {\n",
       "        text-align: right;\n",
       "    }\n",
       "</style>\n",
       "<table border=\"1\" class=\"dataframe\">\n",
       "  <thead>\n",
       "    <tr style=\"text-align: right;\">\n",
       "      <th></th>\n",
       "      <th>Combination</th>\n",
       "      <th>Price</th>\n",
       "    </tr>\n",
       "  </thead>\n",
       "  <tbody>\n",
       "    <tr>\n",
       "      <th>0</th>\n",
       "      <td>0</td>\n",
       "      <td>54.802372</td>\n",
       "    </tr>\n",
       "    <tr>\n",
       "      <th>1</th>\n",
       "      <td>1</td>\n",
       "      <td>55.993789</td>\n",
       "    </tr>\n",
       "  </tbody>\n",
       "</table>\n",
       "</div>"
      ],
      "text/plain": [
       "   Combination      Price\n",
       "0            0  54.802372\n",
       "1            1  55.993789"
      ]
     },
     "execution_count": 62,
     "metadata": {},
     "output_type": "execute_result"
    }
   ],
   "source": [
    "bycom = df.groupby(\"Combination\")[[\"Price\"]].mean()\n",
    "bycom = bycom.reset_index()\n",
    "bycom"
   ]
  },
  {
   "cell_type": "code",
   "execution_count": 63,
   "id": "6fe31d29",
   "metadata": {},
   "outputs": [
    {
     "data": {
      "text/html": [
       "<div>\n",
       "<style scoped>\n",
       "    .dataframe tbody tr th:only-of-type {\n",
       "        vertical-align: middle;\n",
       "    }\n",
       "\n",
       "    .dataframe tbody tr th {\n",
       "        vertical-align: top;\n",
       "    }\n",
       "\n",
       "    .dataframe thead th {\n",
       "        text-align: right;\n",
       "    }\n",
       "</style>\n",
       "<table border=\"1\" class=\"dataframe\">\n",
       "  <thead>\n",
       "    <tr style=\"text-align: right;\">\n",
       "      <th></th>\n",
       "      <th>Price</th>\n",
       "    </tr>\n",
       "    <tr>\n",
       "      <th>Dry</th>\n",
       "      <th></th>\n",
       "    </tr>\n",
       "  </thead>\n",
       "  <tbody>\n",
       "    <tr>\n",
       "      <th>0</th>\n",
       "      <td>51.864437</td>\n",
       "    </tr>\n",
       "    <tr>\n",
       "      <th>1</th>\n",
       "      <td>57.921460</td>\n",
       "    </tr>\n",
       "  </tbody>\n",
       "</table>\n",
       "</div>"
      ],
      "text/plain": [
       "         Price\n",
       "Dry           \n",
       "0    51.864437\n",
       "1    57.921460"
      ]
     },
     "execution_count": 63,
     "metadata": {},
     "output_type": "execute_result"
    }
   ],
   "source": [
    "df.groupby(\"Dry\")[[\"Price\"]].mean()"
   ]
  },
  {
   "cell_type": "code",
   "execution_count": 82,
   "id": "49b4adec",
   "metadata": {},
   "outputs": [
    {
     "data": {
      "text/html": [
       "<div>\n",
       "<style scoped>\n",
       "    .dataframe tbody tr th:only-of-type {\n",
       "        vertical-align: middle;\n",
       "    }\n",
       "\n",
       "    .dataframe tbody tr th {\n",
       "        vertical-align: top;\n",
       "    }\n",
       "\n",
       "    .dataframe thead th {\n",
       "        text-align: right;\n",
       "    }\n",
       "</style>\n",
       "<table border=\"1\" class=\"dataframe\">\n",
       "  <thead>\n",
       "    <tr style=\"text-align: right;\">\n",
       "      <th></th>\n",
       "      <th>Price</th>\n",
       "    </tr>\n",
       "    <tr>\n",
       "      <th>Label</th>\n",
       "      <th></th>\n",
       "    </tr>\n",
       "  </thead>\n",
       "  <tbody>\n",
       "    <tr>\n",
       "      <th>Cleanser</th>\n",
       "      <td>32.601423</td>\n",
       "    </tr>\n",
       "    <tr>\n",
       "      <th>Face Mask</th>\n",
       "      <td>42.624060</td>\n",
       "    </tr>\n",
       "    <tr>\n",
       "      <th>Sun protect</th>\n",
       "      <td>45.905882</td>\n",
       "    </tr>\n",
       "    <tr>\n",
       "      <th>Eye cream</th>\n",
       "      <td>63.602871</td>\n",
       "    </tr>\n",
       "    <tr>\n",
       "      <th>Moisturizer</th>\n",
       "      <td>69.087248</td>\n",
       "    </tr>\n",
       "    <tr>\n",
       "      <th>Treatment</th>\n",
       "      <td>79.177419</td>\n",
       "    </tr>\n",
       "  </tbody>\n",
       "</table>\n",
       "</div>"
      ],
      "text/plain": [
       "                 Price\n",
       "Label                 \n",
       "Cleanser     32.601423\n",
       "Face Mask    42.624060\n",
       "Sun protect  45.905882\n",
       "Eye cream    63.602871\n",
       "Moisturizer  69.087248\n",
       "Treatment    79.177419"
      ]
     },
     "execution_count": 82,
     "metadata": {},
     "output_type": "execute_result"
    }
   ],
   "source": [
    "df.groupby(\"Label\")[[\"Price\"]].mean().sort_values(\"Price\")"
   ]
  },
  {
   "cell_type": "code",
   "execution_count": 80,
   "id": "29ca6d51",
   "metadata": {},
   "outputs": [
    {
     "data": {
      "text/html": [
       "<div>\n",
       "<style scoped>\n",
       "    .dataframe tbody tr th:only-of-type {\n",
       "        vertical-align: middle;\n",
       "    }\n",
       "\n",
       "    .dataframe tbody tr th {\n",
       "        vertical-align: top;\n",
       "    }\n",
       "\n",
       "    .dataframe thead th {\n",
       "        text-align: right;\n",
       "    }\n",
       "</style>\n",
       "<table border=\"1\" class=\"dataframe\">\n",
       "  <thead>\n",
       "    <tr style=\"text-align: right;\">\n",
       "      <th></th>\n",
       "      <th>Brand</th>\n",
       "      <th>Price</th>\n",
       "    </tr>\n",
       "  </thead>\n",
       "  <tbody>\n",
       "    <tr>\n",
       "      <th>0</th>\n",
       "      <td>LA MER</td>\n",
       "      <td>263.0</td>\n",
       "    </tr>\n",
       "    <tr>\n",
       "      <th>1</th>\n",
       "      <td>LANCER</td>\n",
       "      <td>213.0</td>\n",
       "    </tr>\n",
       "    <tr>\n",
       "      <th>2</th>\n",
       "      <td>BIOEFFECT</td>\n",
       "      <td>198.0</td>\n",
       "    </tr>\n",
       "    <tr>\n",
       "      <th>3</th>\n",
       "      <td>SK-II</td>\n",
       "      <td>195.0</td>\n",
       "    </tr>\n",
       "    <tr>\n",
       "      <th>4</th>\n",
       "      <td>LIGHTSTIM</td>\n",
       "      <td>169.0</td>\n",
       "    </tr>\n",
       "    <tr>\n",
       "      <th>5</th>\n",
       "      <td>GUERLAIN</td>\n",
       "      <td>150.0</td>\n",
       "    </tr>\n",
       "    <tr>\n",
       "      <th>6</th>\n",
       "      <td>FOREO</td>\n",
       "      <td>149.0</td>\n",
       "    </tr>\n",
       "    <tr>\n",
       "      <th>7</th>\n",
       "      <td>SHISEIDO</td>\n",
       "      <td>131.0</td>\n",
       "    </tr>\n",
       "    <tr>\n",
       "      <th>8</th>\n",
       "      <td>AMOREPACIFIC</td>\n",
       "      <td>130.0</td>\n",
       "    </tr>\n",
       "    <tr>\n",
       "      <th>9</th>\n",
       "      <td>OMOROVICZA</td>\n",
       "      <td>125.0</td>\n",
       "    </tr>\n",
       "  </tbody>\n",
       "</table>\n",
       "</div>"
      ],
      "text/plain": [
       "          Brand  Price\n",
       "0        LA MER  263.0\n",
       "1        LANCER  213.0\n",
       "2     BIOEFFECT  198.0\n",
       "3         SK-II  195.0\n",
       "4     LIGHTSTIM  169.0\n",
       "5      GUERLAIN  150.0\n",
       "6         FOREO  149.0\n",
       "7      SHISEIDO  131.0\n",
       "8  AMOREPACIFIC  130.0\n",
       "9    OMOROVICZA  125.0"
      ]
     },
     "execution_count": 80,
     "metadata": {},
     "output_type": "execute_result"
    }
   ],
   "source": [
    "expensive = df[df[\"Label\"]==\"Treatment\"]\n",
    "byexpensive = expensive.groupby(\"Brand\")[[\"Price\"]].mean().sort_values(\"Price\",ascending=False)[:10].round()\n",
    "byexpensive = byexpensive.reset_index()\n",
    "byexpensive"
   ]
  },
  {
   "cell_type": "code",
   "execution_count": null,
   "id": "0210da59",
   "metadata": {},
   "outputs": [],
   "source": []
  }
 ],
 "metadata": {
  "kernelspec": {
   "display_name": "Python 3 (ipykernel)",
   "language": "python",
   "name": "python3"
  },
  "language_info": {
   "codemirror_mode": {
    "name": "ipython",
    "version": 3
   },
   "file_extension": ".py",
   "mimetype": "text/x-python",
   "name": "python",
   "nbconvert_exporter": "python",
   "pygments_lexer": "ipython3",
   "version": "3.9.13"
  }
 },
 "nbformat": 4,
 "nbformat_minor": 5
}
